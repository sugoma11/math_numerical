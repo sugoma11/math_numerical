{
 "cells": [
  {
   "cell_type": "code",
   "execution_count": 1,
   "id": "17a8bf2e",
   "metadata": {},
   "outputs": [],
   "source": [
    "import pandas as pd\n",
    "import numpy as np\n",
    "import matplotlib.pyplot as plt\n",
    "pd.set_option('display.float_format', lambda x: '%.5f' % x)"
   ]
  },
  {
   "cell_type": "markdown",
   "id": "298b86a8",
   "metadata": {},
   "source": [
    "Algorithm, where F' is derivative in initial point, so method has linear convergence; c - parameter of convergence speed from Newton-Broyden method. If convergence is bad, c must be in [0, 1], else it may be > 1;"
   ]
  },
  {
   "cell_type": "markdown",
   "id": "a015eec3",
   "metadata": {},
   "source": [
    "$$ x^{k+1}\\ =\\ x^{k}\\ -\\ c \\ \\frac{F(x^k)}{F'_0(x^k)},\\ k\\ =\\ 1,\\ 2,\\ 3,\\ ...$$ "
   ]
  },
  {
   "cell_type": "markdown",
   "id": "bb7461b0",
   "metadata": {},
   "source": [
    "Equation to solve and it's derivative:"
   ]
  },
  {
   "cell_type": "code",
   "execution_count": null,
   "id": "e5b1b249",
   "metadata": {},
   "outputs": [],
   "source": [
    "def f_x(x):\n",
    "    return x ** 3 - x ** 2 + x + 2"
   ]
  },
  {
   "cell_type": "code",
   "execution_count": null,
   "id": "aa4333b0",
   "metadata": {},
   "outputs": [],
   "source": [
    "def derivative_f(x):\n",
    "    return 3 * x ** 2 - 2 * x + 1"
   ]
  },
  {
   "cell_type": "code",
   "execution_count": null,
   "id": "95b6d47f",
   "metadata": {},
   "outputs": [],
   "source": []
  }
 ],
 "metadata": {
  "kernelspec": {
   "display_name": "Python 3 (ipykernel)",
   "language": "python",
   "name": "python3"
  },
  "language_info": {
   "codemirror_mode": {
    "name": "ipython",
    "version": 3
   },
   "file_extension": ".py",
   "mimetype": "text/x-python",
   "name": "python",
   "nbconvert_exporter": "python",
   "pygments_lexer": "ipython3",
   "version": "3.10.6"
  }
 },
 "nbformat": 4,
 "nbformat_minor": 5
}
