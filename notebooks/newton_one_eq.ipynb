{
 "cells": [
  {
   "cell_type": "code",
   "execution_count": 3,
   "id": "3bb4f770",
   "metadata": {},
   "outputs": [],
   "source": [
    "import pandas as pd\n",
    "import numpy as np\n",
    "import matplotlib.pyplot as plt\n",
    "from sympy import *\n",
    "x, y, z = symbols('x y z')\n",
    "\n",
    "# set ndigits to out\n",
    "pd.set_option('display.float_format', lambda x: '%.5f' % x)"
   ]
  },
  {
   "cell_type": "markdown",
   "id": "5c8d773f",
   "metadata": {},
   "source": [
    "Algorithm:"
   ]
  },
  {
   "cell_type": "markdown",
   "id": "7f3fc99a",
   "metadata": {},
   "source": [
    "$$ x^{k+1}\\ =\\ x^{k}\\ -\\ \\frac{F(x^k)}{F'(x^k)},\\ k\\ =\\ 1,\\ 2,\\ 3,\\ ...$$ "
   ]
  },
  {
   "cell_type": "markdown",
   "id": "a4f25451",
   "metadata": {},
   "source": [
    "There is three restrictions for equation to solve by this method:"
   ]
  },
  {
   "cell_type": "markdown",
   "id": "94b44cb5",
   "metadata": {},
   "source": [
    "$$ \\exists F''(x),\\  F'(x) \\neq 0,\\ F'(x)\\ \\textrm{and}\\ F''(x)\\ \\textrm{does not change sign in } [a, b]$$ "
   ]
  },
  {
   "cell_type": "code",
   "execution_count": 4,
   "id": "21fb00c6",
   "metadata": {},
   "outputs": [],
   "source": [
    "def optimize(f_x, derivative_f, x, delta=0.0001):\n",
    "\n",
    "    cnt = 0\n",
    "    x_next = 0\n",
    "    hist = [[] for i in range(3)]\n",
    "    dx = derivative_f(f_x)\n",
    "    \n",
    "    while 1:\n",
    "        x_next = x - f_x(x) / dx(x)\n",
    "        x = x_next\n",
    "\n",
    "        hist[0].append(cnt)\n",
    "        hist[1].append(x)\n",
    "        hist[2].append(f_x(x))\n",
    "\n",
    "        cnt += 1\n",
    "        if cnt > 2:\n",
    "            if abs(hist[2][cnt - 2] - f_x(x)) < delta:\n",
    "                break\n",
    "\n",
    "    return hist"
   ]
  },
  {
   "cell_type": "markdown",
   "id": "bfc70988",
   "metadata": {},
   "source": [
    "Define function and find its derivative:"
   ]
  },
  {
   "cell_type": "code",
   "execution_count": 5,
   "id": "160ae4b7",
   "metadata": {},
   "outputs": [
    {
     "data": {
      "text/latex": [
       "$\\displaystyle x^{3} - x^{2} + x + 2$"
      ],
      "text/plain": [
       "x**3 - x**2 + x + 2"
      ]
     },
     "execution_count": 5,
     "metadata": {},
     "output_type": "execute_result"
    }
   ],
   "source": [
    "def f_x(x):\n",
    "    return x ** 3 - x ** 2 + x + 2\n",
    "f_x(x)"
   ]
  },
  {
   "cell_type": "code",
   "execution_count": 6,
   "id": "d8645104",
   "metadata": {},
   "outputs": [],
   "source": [
    "def derivative_f(f_x):\n",
    "    return lambdify(x, diff(f_x(x), x))"
   ]
  },
  {
   "cell_type": "markdown",
   "id": "6fa64d10",
   "metadata": {},
   "source": [
    "We can define start aproximation by plot:"
   ]
  },
  {
   "cell_type": "code",
   "execution_count": 7,
   "id": "f6b56e71",
   "metadata": {},
   "outputs": [
    {
     "data": {
      "image/png": "[encoded data removed]",
      "text/plain": [
       "<Figure size 640x480 with 1 Axes>"
      ]
     },
     "metadata": {},
     "output_type": "display_data"
    }
   ],
   "source": [
    "xa = np.linspace(-2, 2, 30)\n",
    "fig = plt.figure()\n",
    "ax = fig.add_subplot(111)\n",
    "ax.plot(xa, f_x(xa))\n",
    "ax.spines['left'].set_position('zero')\n",
    "ax.spines['right'].set_color('none')\n",
    "ax.spines['bottom'].set_position('zero')\n",
    "ax.spines['top'].set_color('none')"
   ]
  },
  {
   "cell_type": "code",
   "execution_count": 8,
   "id": "7d192540",
   "metadata": {},
   "outputs": [],
   "source": [
    "hist = optimize(f_x, derivative_f, 0.5, .001)"
   ]
  },
  {
   "cell_type": "code",
   "execution_count": 9,
   "id": "a32b1fe6",
   "metadata": {},
   "outputs": [],
   "source": [
    "d_first = {'num iter': hist[0], 'x': hist[1], 'f(x)': hist[2]}\n",
    "df = pd.DataFrame(data=d_first)"
   ]
  },
  {
   "cell_type": "code",
   "execution_count": 10,
   "id": "996b0168",
   "metadata": {},
   "outputs": [
    {
     "data": {
      "text/html": [
       "<style type=\"text/css\">\n",
       "</style>\n",
       "<table id=\"T_79663\">\n",
       "  <thead>\n",
       "    <tr>\n",
       "      <th id=\"T_79663_level0_col0\" class=\"col_heading level0 col0\" >num iter</th>\n",
       "      <th id=\"T_79663_level0_col1\" class=\"col_heading level0 col1\" >x</th>\n",
       "      <th id=\"T_79663_level0_col2\" class=\"col_heading level0 col2\" >f(x)</th>\n",
       "    </tr>\n",
       "  </thead>\n",
       "  <tbody>\n",
       "    <tr>\n",
       "      <td id=\"T_79663_row0_col0\" class=\"data row0 col0\" >0</td>\n",
       "      <td id=\"T_79663_row0_col1\" class=\"data row0 col1\" >-2.666667</td>\n",
       "      <td id=\"T_79663_row0_col2\" class=\"data row0 col2\" >-26.740741</td>\n",
       "    </tr>\n",
       "    <tr>\n",
       "      <td id=\"T_79663_row1_col0\" class=\"data row1 col0\" >1</td>\n",
       "      <td id=\"T_79663_row1_col1\" class=\"data row1 col1\" >-1.700134</td>\n",
       "      <td id=\"T_79663_row1_col2\" class=\"data row1 col2\" >-7.504750</td>\n",
       "    </tr>\n",
       "    <tr>\n",
       "      <td id=\"T_79663_row2_col0\" class=\"data row2 col0\" >2</td>\n",
       "      <td id=\"T_79663_row2_col1\" class=\"data row2 col1\" >-1.126009</td>\n",
       "      <td id=\"T_79663_row2_col2\" class=\"data row2 col2\" >-1.821568</td>\n",
       "    </tr>\n",
       "    <tr>\n",
       "      <td id=\"T_79663_row3_col0\" class=\"data row3 col0\" >3</td>\n",
       "      <td id=\"T_79663_row3_col1\" class=\"data row3 col1\" >-0.867840</td>\n",
       "      <td id=\"T_79663_row3_col2\" class=\"data row3 col2\" >-0.274595</td>\n",
       "    </tr>\n",
       "    <tr>\n",
       "      <td id=\"T_79663_row4_col0\" class=\"data row4 col0\" >4</td>\n",
       "      <td id=\"T_79663_row4_col1\" class=\"data row4 col1\" >-0.812867</td>\n",
       "      <td id=\"T_79663_row4_col2\" class=\"data row4 col2\" >-0.010724</td>\n",
       "    </tr>\n",
       "    <tr>\n",
       "      <td id=\"T_79663_row5_col0\" class=\"data row5 col0\" >5</td>\n",
       "      <td id=\"T_79663_row5_col1\" class=\"data row5 col1\" >-0.810540</td>\n",
       "      <td id=\"T_79663_row5_col2\" class=\"data row5 col2\" >-0.000019</td>\n",
       "    </tr>\n",
       "    <tr>\n",
       "      <td id=\"T_79663_row6_col0\" class=\"data row6 col0\" >6</td>\n",
       "      <td id=\"T_79663_row6_col1\" class=\"data row6 col1\" >-0.810536</td>\n",
       "      <td id=\"T_79663_row6_col2\" class=\"data row6 col2\" >-0.000000</td>\n",
       "    </tr>\n",
       "  </tbody>\n",
       "</table>\n"
      ],
      "text/plain": [
       "<pandas.io.formats.style.Styler at 0x7f80a7c22b30>"
      ]
     },
     "execution_count": 10,
     "metadata": {},
     "output_type": "execute_result"
    }
   ],
   "source": [
    "df.style.hide(axis=\"index\")"
   ]
  },
  {
   "cell_type": "markdown",
   "id": "14d9f89c",
   "metadata": {},
   "source": [
    "Let's see tangent lines on more convex function:"
   ]
  },
  {
   "cell_type": "code",
   "execution_count": 11,
   "id": "87cde1d9",
   "metadata": {},
   "outputs": [
    {
     "data": {
      "text/latex": [
       "$\\displaystyle 0.005 \\cdot 2.71828182845905^{x} - 1$"
      ],
      "text/plain": [
       "0.005*2.71828182845905**x - 1"
      ]
     },
     "execution_count": 11,
     "metadata": {},
     "output_type": "execute_result"
    }
   ],
   "source": [
    "def view(x):\n",
    "    return 0.005 * np.e ** x - 1\n",
    "view(x)"
   ]
  },
  {
   "cell_type": "code",
   "execution_count": 12,
   "id": "62896b52",
   "metadata": {},
   "outputs": [],
   "source": [
    "def derivative_view(view):\n",
    "    return lambdify(x, diff(view(x), x))"
   ]
  },
  {
   "cell_type": "code",
   "execution_count": 13,
   "id": "9a3b8697",
   "metadata": {},
   "outputs": [],
   "source": [
    "hist_sec = optimize(view, derivative_view, 10)\n",
    "d_second = {'num iter': hist_sec[0], 'x': hist_sec[1], 'f(x)': hist_sec[2]}\n",
    "df2 = pd.DataFrame(data=d_second)"
   ]
  },
  {
   "cell_type": "code",
   "execution_count": 14,
   "id": "640da97e",
   "metadata": {},
   "outputs": [
    {
     "data": {
      "text/html": [
       "<style type=\"text/css\">\n",
       "</style>\n",
       "<table id=\"T_80d0d\">\n",
       "  <thead>\n",
       "    <tr>\n",
       "      <th id=\"T_80d0d_level0_col0\" class=\"col_heading level0 col0\" >num iter</th>\n",
       "      <th id=\"T_80d0d_level0_col1\" class=\"col_heading level0 col1\" >x</th>\n",
       "      <th id=\"T_80d0d_level0_col2\" class=\"col_heading level0 col2\" >f(x)</th>\n",
       "    </tr>\n",
       "  </thead>\n",
       "  <tbody>\n",
       "    <tr>\n",
       "      <td id=\"T_80d0d_row0_col0\" class=\"data row0 col0\" >0</td>\n",
       "      <td id=\"T_80d0d_row0_col1\" class=\"data row0 col1\" >9.009080</td>\n",
       "      <td id=\"T_80d0d_row0_col2\" class=\"data row0 col2\" >39.884974</td>\n",
       "    </tr>\n",
       "    <tr>\n",
       "      <td id=\"T_80d0d_row1_col0\" class=\"data row1 col0\" >1</td>\n",
       "      <td id=\"T_80d0d_row1_col1\" class=\"data row1 col1\" >8.033539</td>\n",
       "      <td id=\"T_80d0d_row1_col2\" class=\"data row1 col2\" >14.413157</td>\n",
       "    </tr>\n",
       "    <tr>\n",
       "      <td id=\"T_80d0d_row2_col0\" class=\"data row2 col0\" >2</td>\n",
       "      <td id=\"T_80d0d_row2_col1\" class=\"data row2 col1\" >7.098418</td>\n",
       "      <td id=\"T_80d0d_row2_col2\" class=\"data row2 col2\" >5.050259</td>\n",
       "    </tr>\n",
       "    <tr>\n",
       "      <td id=\"T_80d0d_row3_col0\" class=\"data row3 col0\" >3</td>\n",
       "      <td id=\"T_80d0d_row3_col1\" class=\"data row3 col1\" >6.263701</td>\n",
       "      <td id=\"T_80d0d_row3_col2\" class=\"data row3 col2\" >1.625794</td>\n",
       "    </tr>\n",
       "    <tr>\n",
       "      <td id=\"T_80d0d_row4_col0\" class=\"data row4 col0\" >4</td>\n",
       "      <td id=\"T_80d0d_row4_col1\" class=\"data row4 col1\" >5.644538</td>\n",
       "      <td id=\"T_80d0d_row4_col2\" class=\"data row4 col2\" >0.413714</td>\n",
       "    </tr>\n",
       "    <tr>\n",
       "      <td id=\"T_80d0d_row5_col0\" class=\"data row5 col0\" >5</td>\n",
       "      <td id=\"T_80d0d_row5_col1\" class=\"data row5 col1\" >5.351894</td>\n",
       "      <td id=\"T_80d0d_row5_col2\" class=\"data row5 col2\" >0.055038</td>\n",
       "    </tr>\n",
       "    <tr>\n",
       "      <td id=\"T_80d0d_row6_col0\" class=\"data row6 col0\" >6</td>\n",
       "      <td id=\"T_80d0d_row6_col1\" class=\"data row6 col1\" >5.299727</td>\n",
       "      <td id=\"T_80d0d_row6_col2\" class=\"data row6 col2\" >0.001411</td>\n",
       "    </tr>\n",
       "    <tr>\n",
       "      <td id=\"T_80d0d_row7_col0\" class=\"data row7 col0\" >7</td>\n",
       "      <td id=\"T_80d0d_row7_col1\" class=\"data row7 col1\" >5.298318</td>\n",
       "      <td id=\"T_80d0d_row7_col2\" class=\"data row7 col2\" >0.000001</td>\n",
       "    </tr>\n",
       "    <tr>\n",
       "      <td id=\"T_80d0d_row8_col0\" class=\"data row8 col0\" >8</td>\n",
       "      <td id=\"T_80d0d_row8_col1\" class=\"data row8 col1\" >5.298317</td>\n",
       "      <td id=\"T_80d0d_row8_col2\" class=\"data row8 col2\" >0.000000</td>\n",
       "    </tr>\n",
       "  </tbody>\n",
       "</table>\n"
      ],
      "text/plain": [
       "<pandas.io.formats.style.Styler at 0x7f80a593e5f0>"
      ]
     },
     "execution_count": 14,
     "metadata": {},
     "output_type": "execute_result"
    }
   ],
   "source": [
    "df2.style.hide(axis=\"index\")"
   ]
  },
  {
   "cell_type": "code",
   "execution_count": 15,
   "id": "4570c825",
   "metadata": {},
   "outputs": [],
   "source": [
    "def plot_tangent(f_x, derivative, x_ax, num_iter, hist):\n",
    "    \"\"\"\n",
    "    :param f_x: function to that tangent line will be plotted\n",
    "    :param derivative: derivative of above function\n",
    "    :param x_ax: ndarray for plotting\n",
    "    :param num_iter: sets iteration for which tangent line will be plotted\n",
    "    Function will plot line on the active axes\n",
    "    \"\"\"\n",
    "    tangent_line = tangent(hist[1][num_iter], view, derivative, x_ax)\n",
    "    ax.plot(x_ax[np.where(tangent_line > 0)], (tangent_line[np.where(tangent_line > 0)]))\n",
    "    x_next = -f_x(hist[1][num_iter]) / derivative(f_x)(hist[1][num_iter]) + hist[1][num_iter]\n",
    "    # dot on Ox\n",
    "    ax.scatter(x_next, 0, marker='x', s=45, label=f'X for {num_iter + 1} iter')\n",
    "    ax.legend()\n",
    "    # Function value in above dot. X_k+1 for iteration process.\n",
    "    ax.vlines(x_next, ymax=view(x_next), ymin=0, linestyle='--')\n",
    "    \n",
    "def tangent(a, f_x, derivative, xa):\n",
    "    return f_x(a) + derivative(f_x)(a) * (xa - a)"
   ]
  },
  {
   "cell_type": "code",
   "execution_count": 16,
   "id": "18ecf736",
   "metadata": {},
   "outputs": [
    {
     "data": {
      "image/png": "[encoded data removed]",
      "text/plain": [
       "<Figure size 640x480 with 1 Axes>"
      ]
     },
     "metadata": {},
     "output_type": "display_data"
    }
   ],
   "source": [
    "xa = np.linspace(4.5, 6.75, 30)\n",
    "xxa = np.linspace(4.5, 6.75, 30)\n",
    "fig = plt.figure()\n",
    "ax = fig.add_subplot(111)\n",
    "ax.set_xlim(4.5, 6.75)\n",
    "ax.plot(xa, view(xa))\n",
    "ax.spines['right'].set_color('none')\n",
    "ax.spines['bottom'].set_position('zero')\n",
    "ax.spines['top'].set_color('none')\n",
    "\n",
    "plot_tangent(view, derivative_view, xxa, 3, hist_sec)\n",
    "plot_tangent(view, derivative_view, xxa, 4, hist_sec)"
   ]
  }
 ],
 "metadata": {
  "kernelspec": {
   "display_name": "Python 3 (ipykernel)",
   "language": "python",
   "name": "python3"
  },
  "language_info": {
   "codemirror_mode": {
    "name": "ipython",
    "version": 3
   },
   "file_extension": ".py",
   "mimetype": "text/x-python",
   "name": "python",
   "nbconvert_exporter": "python",
   "pygments_lexer": "ipython3",
   "version": "3.10.6"
  }
 },
 "nbformat": 4,
 "nbformat_minor": 5
}
