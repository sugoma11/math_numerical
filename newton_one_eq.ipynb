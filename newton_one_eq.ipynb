{
 "cells": [
  {
   "cell_type": "code",
   "execution_count": 6,
   "id": "3bb4f770",
   "metadata": {},
   "outputs": [],
   "source": [
    "import pandas as pd\n",
    "import numpy as np\n",
    "import matplotlib.pyplot as plt\n",
    "from sympy import *\n",
    "x, y, z = symbols('x y z')\n",
    "\n",
    "# set ndigits to out\n",
    "pd.set_option('display.float_format', lambda x: '%.5f' % x)"
   ]
  },
  {
   "cell_type": "markdown",
   "id": "a4f25451",
   "metadata": {},
   "source": [
    "There is three restrictions for equation to solve by this method:"
   ]
  },
  {
   "cell_type": "markdown",
   "id": "94b44cb5",
   "metadata": {},
   "source": [
    "$$ \\exists F''(x),\\  F'(x) \\neq 0,\\ F'(x)\\ \\textrm{and}\\ F''(x)\\ \\textrm{does not change sign in } [a, b]$$ "
   ]
  },
  {
   "cell_type": "markdown",
   "id": "6d6298ee",
   "metadata": {},
   "source": [
    "Algorithm:"
   ]
  },
  {
   "cell_type": "markdown",
   "id": "baae3a54",
   "metadata": {},
   "source": [
    "$$ x^{k+1}\\ =\\ x^{k}\\ -\\ \\frac{F(x^k)}{F'(x^k)},\\ k\\ =\\ 1,\\ 2,\\ 3,\\ ...$$ "
   ]
  },
  {
   "cell_type": "code",
   "execution_count": 121,
   "id": "21fb00c6",
   "metadata": {},
   "outputs": [],
   "source": [
    "def optimize(f_x, derivative_f, x, delta=0.0001):\n",
    "\n",
    "    cnt = 0\n",
    "    x_next = 0\n",
    "    hist = [[] for i in range(3)]\n",
    "    dx = derivative_f(f_x)\n",
    "    \n",
    "    while 1:\n",
    "        x_next = x - f_x(x) / dx(x)\n",
    "        x = x_next\n",
    "\n",
    "        hist[0].append(cnt)\n",
    "        hist[1].append(x)\n",
    "        hist[2].append(f_x(x))\n",
    "\n",
    "        cnt += 1\n",
    "        if cnt > 2:\n",
    "            if abs(hist[2][cnt - 2] - f_x(x)) < delta:\n",
    "                break\n",
    "\n",
    "    return hist"
   ]
  },
  {
   "cell_type": "markdown",
   "id": "bfc70988",
   "metadata": {},
   "source": [
    "Define function and find its derivative:"
   ]
  },
  {
   "cell_type": "code",
   "execution_count": 15,
   "id": "160ae4b7",
   "metadata": {},
   "outputs": [
    {
     "data": {
      "text/latex": [
       "$\\displaystyle x^{3} - x^{2} + x + 2$"
      ],
      "text/plain": [
       "x**3 - x**2 + x + 2"
      ]
     },
     "execution_count": 15,
     "metadata": {},
     "output_type": "execute_result"
    }
   ],
   "source": [
    "def f_x(x):\n",
    "    return x ** 3 - x ** 2 + x + 2\n",
    "f_x(x)"
   ]
  },
  {
   "cell_type": "code",
   "execution_count": 122,
   "id": "d8645104",
   "metadata": {},
   "outputs": [],
   "source": [
    "def derivative_f(f_x):\n",
    "    return lambdify(x, diff(f_x(x), x))"
   ]
  },
  {
   "cell_type": "markdown",
   "id": "6fa64d10",
   "metadata": {},
   "source": [
    "We can define start aproximation by plot:"
   ]
  },
  {
   "cell_type": "code",
   "execution_count": 16,
   "id": "f6b56e71",
   "metadata": {},
   "outputs": [
    {
     "data": {
      "image/png": "[encoded data removed]",
      "text/plain": [
       "<Figure size 640x480 with 1 Axes>"
      ]
     },
     "metadata": {},
     "output_type": "display_data"
    }
   ],
   "source": [
    "xa = np.linspace(-2, 2, 30)\n",
    "fig = plt.figure()\n",
    "ax = fig.add_subplot(111)\n",
    "ax.plot(xa, f_x(xa))\n",
    "ax.spines['left'].set_position('zero')\n",
    "ax.spines['right'].set_color('none')\n",
    "ax.spines['bottom'].set_position('zero')\n",
    "ax.spines['top'].set_color('none')"
   ]
  },
  {
   "cell_type": "code",
   "execution_count": 123,
   "id": "7d192540",
   "metadata": {},
   "outputs": [],
   "source": [
    "hist = optimize(f_x, derivative_f, 0.5, .001)"
   ]
  },
  {
   "cell_type": "code",
   "execution_count": 130,
   "id": "a32b1fe6",
   "metadata": {},
   "outputs": [
    {
     "name": "stdout",
     "output_type": "stream",
     "text": [
      " num iter        x      f(x)\n",
      "        0 -2.66667 -26.74074\n",
      "        1 -1.70013  -7.50475\n",
      "        2 -1.12601  -1.82157\n",
      "        3 -0.86784  -0.27459\n",
      "        4 -0.81287  -0.01072\n",
      "        5 -0.81054  -0.00002\n",
      "        6 -0.81054  -0.00000\n"
     ]
    }
   ],
   "source": [
    "d_first = {'num iter': hist[0], 'x': hist[1], 'f(x)': hist[2]}\n",
    "print(pd.DataFrame(data=d_first).to_string(index=False))"
   ]
  }
 ],
 "metadata": {
  "kernelspec": {
   "display_name": "Python [conda env:nns] *",
   "language": "python",
   "name": "conda-env-nns-py"
  },
  "language_info": {
   "codemirror_mode": {
    "name": "ipython",
    "version": 3
   },
   "file_extension": ".py",
   "mimetype": "text/x-python",
   "name": "python",
   "nbconvert_exporter": "python",
   "pygments_lexer": "ipython3",
   "version": "3.10.6"
  }
 },
 "nbformat": 4,
 "nbformat_minor": 5
}
