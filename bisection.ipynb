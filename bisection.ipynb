{
 "cells": [
  {
   "cell_type": "code",
   "execution_count": 1,
   "id": "30a866c3",
   "metadata": {},
   "outputs": [],
   "source": [
    "import numpy as np\n",
    "import matplotlib.pyplot as plt\n",
    "import pandas as pd\n",
    "from sympy import *\n",
    "x, y, z = symbols('x y z')"
   ]
  },
  {
   "cell_type": "markdown",
   "id": "d8691c8d",
   "metadata": {},
   "source": [
    "If f(x) is a continous function on an interval [a, b] and where sign(f(a)) != sign(f(b)), then f(x) = 0 have on an interval [a, b] at least one root."
   ]
  },
  {
   "cell_type": "markdown",
   "id": "2e30b64d",
   "metadata": {},
   "source": [
    "Define equation to solve:"
   ]
  },
  {
   "cell_type": "code",
   "execution_count": 2,
   "id": "05b4b29e",
   "metadata": {},
   "outputs": [],
   "source": [
    "def func(x):\n",
    "    return x ** 3 - log(x + 1)"
   ]
  },
  {
   "cell_type": "code",
   "execution_count": 3,
   "id": "3ca8150c",
   "metadata": {},
   "outputs": [
    {
     "data": {
      "text/latex": [
       "$\\displaystyle x^{3} - \\log{\\left(x + 1 \\right)}$"
      ],
      "text/plain": [
       "x**3 - log(x + 1)"
      ]
     },
     "execution_count": 3,
     "metadata": {},
     "output_type": "execute_result"
    }
   ],
   "source": [
    "func(x)"
   ]
  },
  {
   "cell_type": "markdown",
   "id": "98a904a1",
   "metadata": {},
   "source": [
    "Let's see graphic to define initial approximation:"
   ]
  },
  {
   "cell_type": "code",
   "execution_count": 4,
   "id": "e2ce982b",
   "metadata": {},
   "outputs": [
    {
     "data": {
      "image/png": "[encoded data removed]",
      "text/plain": [
       "<Figure size 640x480 with 1 Axes>"
      ]
     },
     "metadata": {},
     "output_type": "display_data"
    }
   ],
   "source": [
    "p1 = plot(func(x), xlim=(-1., 1.), ylim=(-.5, 3.), show=True)"
   ]
  },
  {
   "cell_type": "markdown",
   "id": "8c79f59f",
   "metadata": {},
   "source": [
    "So, initialize a = 0.5, b = 1.0:"
   ]
  },
  {
   "cell_type": "code",
   "execution_count": 5,
   "id": "ee873d4c",
   "metadata": {},
   "outputs": [],
   "source": [
    "a = float(.5)\n",
    "b = float(1.)\n",
    "cnt = int(0)\n",
    "c = (a + b) / 2\n",
    "epsilon = 0.0001"
   ]
  },
  {
   "cell_type": "code",
   "execution_count": 6,
   "id": "e1d14a06",
   "metadata": {},
   "outputs": [],
   "source": [
    "a_hist = []\n",
    "b_hist = []\n",
    "c_hist = []"
   ]
  },
  {
   "cell_type": "markdown",
   "id": "1cb6b6e7",
   "metadata": {},
   "source": [
    "We use $2 * \\varepsilon $ in checking loop end because:"
   ]
  },
  {
   "cell_type": "markdown",
   "id": "968ea0d5",
   "metadata": {},
   "source": [
    "$$\n",
    "|C_{k+1} - x^*| < \\frac{b_{k+1} - a_{k+1}} {2} < \\varepsilon\\,\n",
    "$$"
   ]
  },
  {
   "cell_type": "code",
   "execution_count": 7,
   "id": "b6274f60",
   "metadata": {},
   "outputs": [],
   "source": [
    "while b - a > 2 * epsilon:\n",
    "\n",
    "    if func(a) * func(c) < 0:\n",
    "        b = (a + b) / 2\n",
    "\n",
    "    elif func(b) * func(c) < 0:\n",
    "        a = (a + b) / 2\n",
    "\n",
    "    b_hist.append(b)\n",
    "    a_hist.append(a)\n",
    "    c = (a + b) / 2\n",
    "    c_hist.append(c)\n",
    "    cnt += 1"
   ]
  },
  {
   "cell_type": "code",
   "execution_count": 8,
   "id": "d24563f4",
   "metadata": {},
   "outputs": [],
   "source": [
    "d = {'num iter': [i for i in range(cnt)], 'a': a_hist, 'b': b_hist, 'F(a)': [func(a) for a in a_hist],\n",
    "     'F(b)': [func(b) for b in b_hist], 'c': c_hist, 'F(c)': [func(c) for c in c_hist],\n",
    "     'b - a / 2': ((np.asarray(b_hist) - np.asarray(a_hist)) / 2)}"
   ]
  },
  {
   "cell_type": "code",
   "execution_count": 9,
   "id": "61840987",
   "metadata": {},
   "outputs": [
    {
     "data": {
      "text/html": [
       "<div>\n",
       "<style scoped>\n",
       "    .dataframe tbody tr th:only-of-type {\n",
       "        vertical-align: middle;\n",
       "    }\n",
       "\n",
       "    .dataframe tbody tr th {\n",
       "        vertical-align: top;\n",
       "    }\n",
       "\n",
       "    .dataframe thead th {\n",
       "        text-align: right;\n",
       "    }\n",
       "</style>\n",
       "<table border=\"1\" class=\"dataframe\">\n",
       "  <thead>\n",
       "    <tr style=\"text-align: right;\">\n",
       "      <th></th>\n",
       "      <th>num iter</th>\n",
       "      <th>a</th>\n",
       "      <th>b</th>\n",
       "      <th>F(a)</th>\n",
       "      <th>F(b)</th>\n",
       "      <th>c</th>\n",
       "      <th>F(c)</th>\n",
       "      <th>b - a / 2</th>\n",
       "    </tr>\n",
       "  </thead>\n",
       "  <tbody>\n",
       "    <tr>\n",
       "      <th>0</th>\n",
       "      <td>0</td>\n",
       "      <td>0.750000</td>\n",
       "      <td>1.000000</td>\n",
       "      <td>-0.137740787935423</td>\n",
       "      <td>0.306852819440055</td>\n",
       "      <td>0.875000</td>\n",
       "      <td>0.0413132155776259</td>\n",
       "      <td>0.125000</td>\n",
       "    </tr>\n",
       "    <tr>\n",
       "      <th>1</th>\n",
       "      <td>1</td>\n",
       "      <td>0.750000</td>\n",
       "      <td>0.875000</td>\n",
       "      <td>-0.137740787935423</td>\n",
       "      <td>0.0413132155776259</td>\n",
       "      <td>0.812500</td>\n",
       "      <td>-0.0583301546216928</td>\n",
       "      <td>0.062500</td>\n",
       "    </tr>\n",
       "    <tr>\n",
       "      <th>2</th>\n",
       "      <td>2</td>\n",
       "      <td>0.812500</td>\n",
       "      <td>0.875000</td>\n",
       "      <td>-0.0583301546216928</td>\n",
       "      <td>0.0413132155776259</td>\n",
       "      <td>0.843750</td>\n",
       "      <td>-0.0111240508716179</td>\n",
       "      <td>0.031250</td>\n",
       "    </tr>\n",
       "    <tr>\n",
       "      <th>3</th>\n",
       "      <td>3</td>\n",
       "      <td>0.843750</td>\n",
       "      <td>0.875000</td>\n",
       "      <td>-0.0111240508716179</td>\n",
       "      <td>0.0413132155776259</td>\n",
       "      <td>0.859375</td>\n",
       "      <td>0.0144298478165018</td>\n",
       "      <td>0.015625</td>\n",
       "    </tr>\n",
       "    <tr>\n",
       "      <th>4</th>\n",
       "      <td>4</td>\n",
       "      <td>0.843750</td>\n",
       "      <td>0.859375</td>\n",
       "      <td>-0.0111240508716179</td>\n",
       "      <td>0.0144298478165018</td>\n",
       "      <td>0.851562</td>\n",
       "      <td>0.00148807093512071</td>\n",
       "      <td>0.007812</td>\n",
       "    </tr>\n",
       "    <tr>\n",
       "      <th>5</th>\n",
       "      <td>5</td>\n",
       "      <td>0.843750</td>\n",
       "      <td>0.851562</td>\n",
       "      <td>-0.0111240508716179</td>\n",
       "      <td>0.00148807093512071</td>\n",
       "      <td>0.847656</td>\n",
       "      <td>-0.00485902744361444</td>\n",
       "      <td>0.003906</td>\n",
       "    </tr>\n",
       "    <tr>\n",
       "      <th>6</th>\n",
       "      <td>6</td>\n",
       "      <td>0.847656</td>\n",
       "      <td>0.851562</td>\n",
       "      <td>-0.00485902744361444</td>\n",
       "      <td>0.00148807093512071</td>\n",
       "      <td>0.849609</td>\n",
       "      <td>-0.00169575879455397</td>\n",
       "      <td>0.001953</td>\n",
       "    </tr>\n",
       "    <tr>\n",
       "      <th>7</th>\n",
       "      <td>7</td>\n",
       "      <td>0.849609</td>\n",
       "      <td>0.851562</td>\n",
       "      <td>-0.00169575879455397</td>\n",
       "      <td>0.00148807093512071</td>\n",
       "      <td>0.850586</td>\n",
       "      <td>-0.000106416711635471</td>\n",
       "      <td>0.000977</td>\n",
       "    </tr>\n",
       "    <tr>\n",
       "      <th>8</th>\n",
       "      <td>8</td>\n",
       "      <td>0.850586</td>\n",
       "      <td>0.851562</td>\n",
       "      <td>-0.000106416711635471</td>\n",
       "      <td>0.00148807093512071</td>\n",
       "      <td>0.851074</td>\n",
       "      <td>0.000690183585382198</td>\n",
       "      <td>0.000488</td>\n",
       "    </tr>\n",
       "    <tr>\n",
       "      <th>9</th>\n",
       "      <td>9</td>\n",
       "      <td>0.850586</td>\n",
       "      <td>0.851074</td>\n",
       "      <td>-0.000106416711635471</td>\n",
       "      <td>0.000690183585382198</td>\n",
       "      <td>0.850830</td>\n",
       "      <td>0.000291722596644450</td>\n",
       "      <td>0.000244</td>\n",
       "    </tr>\n",
       "    <tr>\n",
       "      <th>10</th>\n",
       "      <td>10</td>\n",
       "      <td>0.850586</td>\n",
       "      <td>0.850830</td>\n",
       "      <td>-0.000106416711635471</td>\n",
       "      <td>0.000291722596644450</td>\n",
       "      <td>0.850708</td>\n",
       "      <td>9.26127376172925e-5</td>\n",
       "      <td>0.000122</td>\n",
       "    </tr>\n",
       "    <tr>\n",
       "      <th>11</th>\n",
       "      <td>11</td>\n",
       "      <td>0.850586</td>\n",
       "      <td>0.850708</td>\n",
       "      <td>-0.000106416711635471</td>\n",
       "      <td>9.26127376172925e-5</td>\n",
       "      <td>0.850647</td>\n",
       "      <td>-6.91203758462766e-6</td>\n",
       "      <td>0.000061</td>\n",
       "    </tr>\n",
       "  </tbody>\n",
       "</table>\n",
       "</div>"
      ],
      "text/plain": [
       "    num iter         a         b                   F(a)                  F(b)  \\\n",
       "0          0  0.750000  1.000000     -0.137740787935423     0.306852819440055   \n",
       "1          1  0.750000  0.875000     -0.137740787935423    0.0413132155776259   \n",
       "2          2  0.812500  0.875000    -0.0583301546216928    0.0413132155776259   \n",
       "3          3  0.843750  0.875000    -0.0111240508716179    0.0413132155776259   \n",
       "4          4  0.843750  0.859375    -0.0111240508716179    0.0144298478165018   \n",
       "5          5  0.843750  0.851562    -0.0111240508716179   0.00148807093512071   \n",
       "6          6  0.847656  0.851562   -0.00485902744361444   0.00148807093512071   \n",
       "7          7  0.849609  0.851562   -0.00169575879455397   0.00148807093512071   \n",
       "8          8  0.850586  0.851562  -0.000106416711635471   0.00148807093512071   \n",
       "9          9  0.850586  0.851074  -0.000106416711635471  0.000690183585382198   \n",
       "10        10  0.850586  0.850830  -0.000106416711635471  0.000291722596644450   \n",
       "11        11  0.850586  0.850708  -0.000106416711635471   9.26127376172925e-5   \n",
       "\n",
       "           c                   F(c)  b - a / 2  \n",
       "0   0.875000     0.0413132155776259   0.125000  \n",
       "1   0.812500    -0.0583301546216928   0.062500  \n",
       "2   0.843750    -0.0111240508716179   0.031250  \n",
       "3   0.859375     0.0144298478165018   0.015625  \n",
       "4   0.851562    0.00148807093512071   0.007812  \n",
       "5   0.847656   -0.00485902744361444   0.003906  \n",
       "6   0.849609   -0.00169575879455397   0.001953  \n",
       "7   0.850586  -0.000106416711635471   0.000977  \n",
       "8   0.851074   0.000690183585382198   0.000488  \n",
       "9   0.850830   0.000291722596644450   0.000244  \n",
       "10  0.850708    9.26127376172925e-5   0.000122  \n",
       "11  0.850647   -6.91203758462766e-6   0.000061  "
      ]
     },
     "execution_count": 9,
     "metadata": {},
     "output_type": "execute_result"
    }
   ],
   "source": [
    "hist = pd.DataFrame(data=d)\n",
    "hist"
   ]
  },
  {
   "cell_type": "markdown",
   "id": "ada23d85",
   "metadata": {},
   "source": [
    "Set num of iterations, on which we want to see edges of interval:"
   ]
  },
  {
   "cell_type": "code",
   "execution_count": 40,
   "id": "d10eff81",
   "metadata": {},
   "outputs": [],
   "source": [
    "it_1 = 0\n",
    "it_2 = 2"
   ]
  },
  {
   "cell_type": "code",
   "execution_count": 42,
   "id": "1ecfcded",
   "metadata": {},
   "outputs": [
    {
     "data": {
      "image/png": "[encoded data removed]",
      "text/plain": [
       "<Figure size 640x480 with 1 Axes>"
      ]
     },
     "metadata": {},
     "output_type": "display_data"
    }
   ],
   "source": [
    "plt = plot(func(x), xlim=(0, 1.5), ylim=(-.5, 1.), legend = True, show=False)\n",
    "\n",
    "right = plot_implicit(x - hist.b[it_1], x_var=(x, -1, 1), y_var=(y, 0, hist['F(b)'][it_1]), show=False,\n",
    "                     adaptive = False, points = 500)\n",
    "left = plot_implicit(x - hist.a[it_1], x_var=(x, -1, 1), y_var=(y, 0, hist['F(a)'][it_1]), show=False,\n",
    "                     adaptive = False, points = 500)\n",
    "\n",
    "right_sec = plot_implicit(x - hist.b[it_2], x_var=(x, -1, 1), y_var=(y, 0, hist['F(b)'][it_2]), show=False,\n",
    "                         line_color='red', adaptive = False, points = 500)\n",
    "left_sec = plot_implicit(x - hist.a[it_2], x_var=(x, -1, 1), y_var=(y, 0, hist['F(a)'][it_2]), show=False,\n",
    "                         line_color='red', adaptive = False, points = 500)\n",
    "\n",
    "plt.append(right[0])\n",
    "plt.append(left[0])\n",
    "plt.append(right_sec[0])\n",
    "plt.append(left_sec[0])\n",
    "\n",
    "plt.show()"
   ]
  }
 ],
 "metadata": {
  "kernelspec": {
   "display_name": "Python 3 (ipykernel)",
   "language": "python",
   "name": "python3"
  },
  "language_info": {
   "codemirror_mode": {
    "name": "ipython",
    "version": 3
   },
   "file_extension": ".py",
   "mimetype": "text/x-python",
   "name": "python",
   "nbconvert_exporter": "python",
   "pygments_lexer": "ipython3",
   "version": "3.10.6"
  }
 },
 "nbformat": 4,
 "nbformat_minor": 5
}
